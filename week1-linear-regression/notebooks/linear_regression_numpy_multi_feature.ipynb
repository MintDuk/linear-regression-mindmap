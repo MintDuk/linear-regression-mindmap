{
 "cells": [
  {
   "cell_type": "code",
   "execution_count": null,
   "id": "7b4aa0c3",
   "metadata": {},
   "outputs": [],
   "source": [
    "import numpy as np\n",
    "import matplotlib.pyplot as plt"
   ]
  },
  {
   "cell_type": "code",
   "execution_count": null,
   "id": "8470f9b2",
   "metadata": {},
   "outputs": [],
   "source": [
    "# 1. Biến đầu vào (Features)\n",
    "x = np.array([\n",
    "    [1, 2, 3, 4],\n",
    "    [1, 4, 2, 3],\n",
    "    [1, 5, 1, 4],\n",
    "    [1, 3, 4, 2]\n",
    "], dtype=float)\n",
    "\n",
    "# 2. Biến đầu ra (Target)\n",
    "y = np.array([\n",
    "    [6.0],\n",
    "    [7.5],\n",
    "    [8.6],\n",
    "    [9.1]\n",
    "])"
   ]
  },
  {
   "cell_type": "code",
   "execution_count": null,
   "id": "32583a6b",
   "metadata": {},
   "outputs": [],
   "source": [
    "# 3. Khởi tạo trọng số\n",
    "w = np.zeros((4, 1))\n",
    "\n",
    "# 4. Tham số huấn luyện\n",
    "learning_rate = 0.01\n",
    "num_steps = 100\n",
    "MSE_history = []"
   ]
  },
  {
   "cell_type": "code",
   "execution_count": null,
   "id": "0535f995",
   "metadata": {},
   "outputs": [],
   "source": [
    "# 5. Huấn luyện bằng Gradient Descent\n",
    "y_pred = x @ w\n",
    "MSE = np.mean((y - y_pred) ** 2)\n",
    "MSE_history.append(MSE)\n",
    "\n",
    "for step in range(num_steps):\n",
    "    y_pred = x @ w\n",
    "    gradient = (-2 / x.shape[0]) * x.T @ (y - y_pred)\n",
    "    w = w - learning_rate * gradient\n",
    "    MSE = np.mean((y - y_pred) ** 2)\n",
    "    MSE_history.append(MSE)"
   ]
  },
  {
   "cell_type": "code",
   "execution_count": null,
   "id": "20aba380",
   "metadata": {},
   "outputs": [],
   "source": [
    "# 6. In phương trình\n",
    "terms = [f\"{w[0,0]:.2f}\"]\n",
    "for i in range(1, w.shape[0]):\n",
    "    terms.append(f\"{w[i,0]:+.2f}*x{i}\")\n",
    "line_fit = \"y=\" + \"\".join(terms)\n",
    "print(\"A line fit:\", line_fit)"
   ]
  },
  {
   "cell_type": "code",
   "execution_count": null,
   "id": "b2fbe0a8",
   "metadata": {},
   "outputs": [],
   "source": [
    "# 7. Đồ thị hội tụ\n",
    "plt.plot(range(len(MSE_history)), MSE_history, marker='o')\n",
    "plt.title('Quá trình hội tụ của MSE')\n",
    "plt.xlabel('Số bước lặp')\n",
    "plt.ylabel('MSE')\n",
    "plt.grid(True)\n",
    "plt.show()"
   ]
  }
 ],
 "metadata": {},
 "nbformat": 4,
 "nbformat_minor": 5
}